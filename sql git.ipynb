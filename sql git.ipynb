{
 "cells": [
  {
   "cell_type": "code",
   "execution_count": 358,
   "metadata": {},
   "outputs": [],
   "source": [
    "import mysql.connector as mysql"
   ]
  },
  {
   "cell_type": "code",
   "execution_count": 385,
   "metadata": {},
   "outputs": [],
   "source": [
    "class sqloperations:\n",
    "    def __init__(self,dbname):\n",
    "        self.dbname=dbname\n",
    "    def create_database(self):\n",
    "        try:\n",
    "            flag=0\n",
    "            conn=mysql.connect(host=\"localhost\",user=\"shwetabh\",password=\"phoolbaba\")\n",
    "            cur=conn.cursor()\n",
    "            cur.execute(\"SHOW DATABASES\")\n",
    "            for i in cur:\n",
    "                if self.dbname in cur:\n",
    "                    flag=1\n",
    "            if flag==1:\n",
    "                print(\"Database {} Exists\".format(self.dbname))\n",
    "                conn=mysql.connect(host=\"localhost\",user=\"shwetabh\",password=\"phoolbaba\",database=self.dbname)\n",
    "                conn.close()\n",
    "                print(\"Connection Closed!\")\n",
    "            else:\n",
    "                cur.execute(\"CREATE DATABASE %s\"% self.dbname)\n",
    "                print(\"Database {} Created\".format(self.dbname))\n",
    "                conn.close() \n",
    "                print(\"Connection Closed!\")\n",
    "            \n",
    "        except Exception as e:\n",
    "            \n",
    "            print(e)\n",
    "    \n",
    "    def create_table(self,tablename,dicts):\n",
    "        try:\n",
    "            conn=conn=mysql.connect(host=\"localhost\",user=\"shwetabh\",password=\"phoolbaba\",database=self.dbname)\n",
    "            cur=conn.cursor()\n",
    "            for i in dicts.keys():\n",
    "                v=dicts[i]\n",
    "                try:\n",
    "                    cur.execute(\"CREATE TABLE {}({} {})\".format(tablename,i,v))\n",
    "                    \n",
    "                except:\n",
    "                    cur.execute('ALTER TABLE {} ADD {} {}'.format(tablename,i,v))\n",
    "            print(\"Table-{0} created in Database {1}\".format(tablename,self.dbname)) \n",
    "            conn.close()\n",
    "            print(\"Connection Closed!\")\n",
    "        except Exception as e:\n",
    "            print(\"Table or column already exists\")\n",
    "    def insert_table(self,tablename,lof):\n",
    "        try:\n",
    "            conn=conn=mysql.connect(host=\"localhost\",user=\"shwetabh\",password=\"phoolbaba\",database=self.dbname)\n",
    "            cur=conn.cursor()\n",
    "            cur.execute(\"INSERT INTO {} VALUES({})\".format(tablename,(lof)))\n",
    "            \n",
    "            conn.commit()\n",
    "            print(\"Entry Successfull\")\n",
    "            conn.close()\n",
    "            print(\"connection closed!\")\n",
    "        except Exception as e:\n",
    "            print(\"Cannot Insert Data\"+str(e))\n",
    "        \n",
    "    def select_table(self,tablename):\n",
    "        try:\n",
    "            conn=conn=mysql.connect(host=\"localhost\",user=\"shwetabh\",password=\"phoolbaba\",database=self.dbname)\n",
    "            cur=conn.cursor()\n",
    "            cur.execute(\"select *from {}\".format(tablename))\n",
    "            myresult=cur.fetchall()\n",
    "            for i in myresult:\n",
    "                print(i)\n",
    "            conn.close()\n",
    "        except Exception as e:\n",
    "            print(\"Unsuccessfull!\"+str(e))\n",
    "            \n",
    "    def drop_table(self,tablename):\n",
    "        try:\n",
    "            conn=conn=mysql.connect(host=\"localhost\",user=\"shwetabh\",password=\"phoolbaba\",database=self.dbname)\n",
    "            cur=conn.cursor()\n",
    "            cur.execute(\"DROP TABLE {}\".format(tablename))\n",
    "            print(\"Table Deleted Successfully!\")\n",
    "        except:\n",
    "            print(\"Drop unsuccessfull or table does not exists!\")\n",
    "            \n",
    "            "
   ]
  },
  {
   "cell_type": "code",
   "execution_count": 386,
   "metadata": {},
   "outputs": [],
   "source": [
    "am=sqloperations(\"test1\")"
   ]
  },
  {
   "cell_type": "code",
   "execution_count": 387,
   "metadata": {},
   "outputs": [
    {
     "name": "stdout",
     "output_type": "stream",
     "text": [
      "1007 (HY000): Can't create database 'test1'; database exists\n"
     ]
    }
   ],
   "source": [
    "am.create_database()"
   ]
  },
  {
   "cell_type": "code",
   "execution_count": 388,
   "metadata": {},
   "outputs": [
    {
     "name": "stdout",
     "output_type": "stream",
     "text": [
      "Table or column already exists\n"
     ]
    }
   ],
   "source": [
    "am.create_table(\"Hello\",values)"
   ]
  },
  {
   "cell_type": "code",
   "execution_count": 389,
   "metadata": {},
   "outputs": [
    {
     "name": "stdout",
     "output_type": "stream",
     "text": [
      "Table Deleted Successfully!\n"
     ]
    }
   ],
   "source": [
    "am.drop_table(\"Hello\")"
   ]
  },
  {
   "cell_type": "code",
   "execution_count": 390,
   "metadata": {},
   "outputs": [
    {
     "name": "stdout",
     "output_type": "stream",
     "text": [
      "Table-Hello created in Database test1\n",
      "Connection Closed!\n"
     ]
    }
   ],
   "source": [
    "am.create_table(\"Hello\",values)"
   ]
  },
  {
   "cell_type": "markdown",
   "metadata": {},
   "source": [
    "#Lets Understand Inheritance Concepts"
   ]
  },
  {
   "cell_type": "code",
   "execution_count": 391,
   "metadata": {},
   "outputs": [],
   "source": [
    "values={\"studentId\":\"int\", \"studentRoll\":\"int\", \"studentMarks\":\"int\"}"
   ]
  },
  {
   "cell_type": "code",
   "execution_count": 392,
   "metadata": {},
   "outputs": [],
   "source": [
    "class student(sqloperations):\n",
    "    def __init__(self,ids,roll,marks):\n",
    "        self.ids=ids\n",
    "        self.roll=roll\n",
    "        self.marks=marks\n",
    "        self.dbname=\"studentDetails\"\n",
    "    "
   ]
  },
  {
   "cell_type": "code",
   "execution_count": 393,
   "metadata": {},
   "outputs": [],
   "source": [
    "student1=student(12,23,24)"
   ]
  },
  {
   "cell_type": "code",
   "execution_count": 394,
   "metadata": {},
   "outputs": [
    {
     "name": "stdout",
     "output_type": "stream",
     "text": [
      "1007 (HY000): Can't create database 'studentdetails'; database exists\n"
     ]
    }
   ],
   "source": [
    "student1.create_database()"
   ]
  },
  {
   "cell_type": "code",
   "execution_count": 395,
   "metadata": {},
   "outputs": [
    {
     "name": "stdout",
     "output_type": "stream",
     "text": [
      "Table or column already exists\n"
     ]
    }
   ],
   "source": [
    "student1.create_table(\"StudentMarks\",values)"
   ]
  },
  {
   "cell_type": "code",
   "execution_count": 396,
   "metadata": {},
   "outputs": [],
   "source": [
    "valuestoInsert= (\"{0},{1},{2}\".format(student1.ids,student1.roll,student1.marks))"
   ]
  },
  {
   "cell_type": "code",
   "execution_count": 397,
   "metadata": {},
   "outputs": [
    {
     "name": "stdout",
     "output_type": "stream",
     "text": [
      "Entry Successfull\n",
      "connection closed!\n"
     ]
    }
   ],
   "source": [
    "student1.insert_table(\"studentMarks\",valuestoInsert)"
   ]
  },
  {
   "cell_type": "code",
   "execution_count": 398,
   "metadata": {},
   "outputs": [
    {
     "name": "stdout",
     "output_type": "stream",
     "text": [
      "(12, 23, 24)\n",
      "(12, 23, 24)\n",
      "(12, 23, 24)\n",
      "(12, 23, 24)\n"
     ]
    }
   ],
   "source": [
    "student1.select_table(\"studentMarks\")"
   ]
  },
  {
   "cell_type": "code",
   "execution_count": null,
   "metadata": {},
   "outputs": [],
   "source": []
  }
 ],
 "metadata": {
  "kernelspec": {
   "display_name": "Python 3",
   "language": "python",
   "name": "python3"
  },
  "language_info": {
   "codemirror_mode": {
    "name": "ipython",
    "version": 3
   },
   "file_extension": ".py",
   "mimetype": "text/x-python",
   "name": "python",
   "nbconvert_exporter": "python",
   "pygments_lexer": "ipython3",
   "version": "3.7.6"
  }
 },
 "nbformat": 4,
 "nbformat_minor": 4
}
